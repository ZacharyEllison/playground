{
 "cells": [
  {
   "cell_type": "markdown",
   "metadata": {},
   "source": [
    "# Pair Programming Exercises\n",
    "\n",
    "## Week 1 (September 3rd - September 8th)"
   ]
  },
  {
   "cell_type": "markdown",
   "metadata": {},
   "source": [
    "# Exercise 1\n",
    "The purpose of this exercise is to help you ease into the course flow for the semester. You will learn where to find the homework assignments and how to correctly set up your `git` repo for this course.\n",
    "\n",
    "#### Tasks\n",
    "* Do problem #2 on Homework 1 (https://harvard-iacs.github.io/2020-CS107/category/homework.html)."
   ]
  },
  {
   "cell_type": "markdown",
   "metadata": {},
   "source": [
    "# Exercise 2\n",
    "By the end of this exercise, you will be ready to use Deepnote for pair programming.\n",
    "\n",
    "#### Tasks\n",
    "* Login to Deepnote if you haven't already: https://deepnote.com/join-team?token=91n852m91\n",
    "* Create a new project called `CS107_Pair_Programming`\n",
    "* Create a new directory in this new project called `PP1`"
   ]
  },
  {
   "cell_type": "markdown",
   "metadata": {},
   "source": [
    "# Exercise 3\n",
    "You will be assigned a random group and sent to a breakout room. Please wait for your TF. This exercise will be performed in the `PP1/` directory that you just created.\n",
    "\n",
    "By the end of this exercise, you will have gone through your first pair programming workflow! We will check that you successfully pushed the `README.md` file to your repo.\n",
    "\n",
    "#### Tasks\n",
    "* Invite group members. Make sure they have \"Edit\" access.\n",
    "![Image]({attach}../fig/share.png)\n",
    "* Create a terminal. This is the fifth icon from the top.\n",
    "![Image]({attach}../fig/terminal.png)\n",
    "* Create a `README.md` file. You can put anything you want in here. A good choice would be something like the figure below.\n",
    "![Image]({attach}../fig/readme.png)\n",
    "* Inside the terminal, from the command line, play around with some of the Linux commands you started to learn in lecture. At the very least, try to use `ls` and some of its options.\n",
    "* Now download `README.md` to your local computer, copy it to the ` pair_programming/PP1/` directory of your course repo, and `git push`.\n",
    "\n",
    "#### A few comments\n",
    "* The tasks above are not necessarily connected. The main goal is to help you get familiar with the correct workflow.\n",
    "* For example, you can choose to share your code with your partners or not for this session. In the future, you will be required to share code.\n",
    "* Similarly, you are not required to create a file directly from the terminal. However, in the future, once you are more comforable with Linux and the command line, you will be required to do all of this from the command line."
   ]
  }
 ],
 "metadata": {
  "kernelspec": {
   "display_name": "Python 3",
   "language": "python",
   "name": "python3"
  },
  "language_info": {
   "codemirror_mode": {
    "name": "ipython",
    "version": 3
   },
   "file_extension": ".py",
   "mimetype": "text/x-python",
   "name": "python",
   "nbconvert_exporter": "python",
   "pygments_lexer": "ipython3",
   "version": "3.7.4"
  }
 },
 "nbformat": 4,
 "nbformat_minor": 2
}
